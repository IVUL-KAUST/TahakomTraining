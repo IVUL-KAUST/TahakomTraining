{
 "cells": [
  {
   "cell_type": "markdown",
   "metadata": {},
   "source": [
    "<center><h1>Tahakom Training Week 1: Transformers for Vision</h1></center>\n",
    "\n",
    "<center><h2>Day 2:  Vision Transformer</h2> </center>\n",
    "\n",
    "\n",
    "In this tutorial, we will take a closer look at a recent new trend: Transformers for Computer Vision.\n",
    "Since [Alexey Dosovitskiy et al.](https://openreview.net/pdf?id=YicbFdNTTy) successfully applied a Transformer on a variety of image recognition benchmarks, there have been an incredible amount of follow-up works showing that CNNs might not be optimal architecture for Computer Vision anymore.\n",
    "But how do Vision Transformers work exactly, and what benefits and drawbacks do they offer in contrast to CNNs?\n",
    "We will answer these questions by implementing a Vision Transformer ourselves, and train it on the popular, small dataset CIFAR10.\n",
    "We will compare these results to popular convolutional architectures such as Inception, ResNet and DenseNet.\n",
    "This notebook is part of a lecture series on Deep Learning at the University of Amsterdam.\n",
    "The full list of tutorials can be found at https://uvadlc-notebooks.rtfd.io.\n",
    "\n",
    "Research Paper: [An image is worth 16x16 words: Transformers for image recognition at scale](https://openreview.net/pdf?id=YicbFdNTTy).\n",
    "\n",
    "\n",
    "Unit Tests\n",
    "1. Image Patches\n",
    "2. Embedding Patches and Positional Embedding\n",
    "3. Attention in Vision Transformer\n",
    "4. Model Setup\n",
    "5. Finetuning image classification\n",
    "6. Visualization"
   ]
  },
  {
    "cell_type": "code",
    "execution_count": 1,
    "metadata": {
      "id": "ac4dd05b"
    },
    "outputs": [],
    "source": [
      "import torch\n",
      "import torch.nn as nn\n",
      "import torch.nn.functional as F\n",
      "import torchvision.transforms as T\n",
      "import numpy as np"
    ],
    "id": "ac4dd05b"
  },
  {
    "cell_type": "code",
    "execution_count": 2,
    "metadata": {
      "id": "4a4ffc3a"
    },
    "outputs": [],
    "source": [
      "from PIL import Image\n",
      "import matplotlib.pyplot as plt\n",
      "import seaborn as sns"
    ],
    "id": "4a4ffc3a"
  },
  {
    "cell_type": "markdown",
    "metadata": {
      "id": "038b1527"
    },
    "source": [
      "## Vision Transformer\n",
      "\n",
      "<img src='https://drive.google.com/uc?id=1_VQOC4V6iFF_NMKC-g2UmBFkQOwm4TJ-' />"
    ],
    "id": "038b1527"
  },
  {
    "cell_type": "markdown",
    "metadata": {
      "id": "c4f7e5f7"
    },
    "source": [
      ">Inspired by the Transformer scaling successes in NLP, we experiment with applying a standard Transformer directly to images, with the fewest possible modifications. To do so, **we split an image into patches and provide the sequence of linear embeddings of these patches as an input to a Transformer**. Image patches are treated the same way as tokens (words) in an NLP application. We train the model on image classification in supervised fashion.  <br><sub>1 Introduction<sub>\n",
      "\n",
      ">In model design we follow the original Transformer (Vaswani et al., 2017) as closely as possible.\n",
      "An advantage of this intentionally simple setup is that scalable NLP Transformer architectures – and\n",
      "their efficient implementations – can be used almost out of the box. <br><sub>3 Method<sub>\n"
    ],
    "id": "c4f7e5f7"
  },
  {
    "cell_type": "markdown",
    "metadata": {
      "id": "c8e239f2"
    },
    "source": [
      "## Model Configuration\n",
      "\n",
      "<img src='https://drive.google.com/uc?id=1IB2-I_zGLm5VmCKTdAfc0SXPaxEcV_A1' />"
    ],
    "id": "c8e239f2"
  },
  {
    "cell_type": "markdown",
    "metadata": {
      "id": "e0694d52"
    },
    "source": [
      "\n",
      "\n",
      "We will walk through the components of Vision Transformer:\n",
      ">- Image Patches\n",
      "-Embedding Patches\n",
      "-[Class] Token\n",
      "-Positional Information\n",
      "-Self-Attention\n",
      "-Multi-Head Self-Attention\n",
      "-Multi-Layer Perceptron\n",
      "-Transformer Encoder\n",
      "-Classification Head\n",
      "-Vision Transformer"
    ],
    "id": "e0694d52"
  },
  {
    "cell_type": "markdown",
    "metadata": {
      "id": "b9d868dc"
    },
    "source": [
      "## Image To Patches\n",
      "<img src='https://drive.google.com/uc?id=1HnemkTTAyd0_5mTXXhFAIugaykiUw3Ea' />"
    ],
    "id": "b9d868dc"
  },
  {
    "cell_type": "code",
    "execution_count": 3,
    "metadata": {
      "colab": {
        "base_uri": "https://localhost:8080/"
      },
      "id": "cc3bbdef",
      "outputId": "ffd4d42f-936a-4636-80f2-22bd0ae5b108"
    },
    "outputs": [
      {
        "output_type": "stream",
        "name": "stdout",
        "text": [
          "Image shape:  (128, 128, 3)\n",
          "Number of patches: 64 with resolution (16, 16)\n",
          "Patches shape:  (64, 16, 16, 3)\n",
          "Flattened patches shape:  (64, 768)\n"
        ]
      }
    ],
    "source": [
      "# unit test on patching an image\n",
      "\n",
      "import urllib.request\n",
      "\n",
      "urllib.request.urlretrieve(\n",
      "  'https://drive.google.com/uc?id=1h6ODFoGIMLgLGOiTdWz7CKWdJPOjUiu8',\n",
      "   \"car.png\")\n",
      "\n",
      "# read image and resize to 128\n",
      "image = Image.open('car.png').resize((128, 128))\n",
      "\n",
      "# convert to numpy array\n",
      "x = np.array(image)\n",
      "\n",
      "\n",
      "# An Image Is Worth 16x16 Words\n",
      "P = 16   # patch size\n",
      "C = 3    # number of channels (RGB)\n",
      "\n",
      "# split image into patches using numpy\n",
      "patches = x.reshape(x.shape[0]//P, P, x.shape[1]//P, P, C).swapaxes(1, 2).reshape(-1, P, P, C)\n",
      "\n",
      "# flatten patches\n",
      "x_p = np.reshape(patches, (-1, P * P * C))\n",
      "\n",
      "# get number of patches\n",
      "N = x_p.shape[0]\n",
      "\n",
      "print('Image shape: ', x.shape)  # width, height, channel\n",
      "print('Number of patches: {} with resolution ({}, {})'.format(N, P, P))\n",
      "print('Patches shape: ', patches.shape)\n",
      "print('Flattened patches shape: ', x_p.shape)"
    ],
    "id": "cc3bbdef"
  },
  {
    "cell_type": "code",
    "execution_count": 4,
    "metadata": {
      "colab": {
        "base_uri": "https://localhost:8080/",
        "height": 308
      },
      "id": "193f26c8",
      "outputId": "db7a5dd9-906e-4c0a-9d66-fa0136c1e1c4",
      "scrolled": false
    },
    "outputs": [
      {
        "output_type": "display_data",
        "data": {
          "text/plain": [
            "<Figure size 640x480 with 65 Axes>"
          ],
          "image/png": "[encoded data removed]"
        },
        "metadata": {}
      }
    ],
    "source": [
      "# visualize data\n",
      "#\n",
      "# display image and patches side-by-side\n",
      "\n",
      "fig = plt.figure()\n",
      "\n",
      "gridspec = fig.add_gridspec(1, 2)\n",
      "ax1 = fig.add_subplot(gridspec[0])\n",
      "ax1.set(title='Image')\n",
      "\n",
      "# display image\n",
      "ax1.imshow(x)\n",
      "\n",
      "subgridspec = gridspec[1].subgridspec(8, 8, hspace=-0.8)\n",
      "\n",
      "# display patches\n",
      "for i in range(8):    # N = 64, 8x8 grid\n",
      "    for j in range(8):\n",
      "        num = i * 8 + j\n",
      "        ax = fig.add_subplot(subgridspec[i, j])\n",
      "        ax.set(xticks=[], yticks=[])\n",
      "        ax.imshow(patches[num])"
    ],
    "id": "193f26c8"
  },
  {
    "cell_type": "code",
    "execution_count": 5,
    "metadata": {
      "colab": {
        "base_uri": "https://localhost:8080/",
        "height": 428
      },
      "id": "3e39c36c",
      "outputId": "eb0bb46d-9a5b-4309-86b3-2db5e1ba438d"
    },
    "outputs": [
      {
        "output_type": "display_data",
        "data": {
          "text/plain": [
            "<Figure size 640x480 with 2 Axes>"
          ],
          "image/png": "[encoded data removed]"
        },
        "metadata": {}
      }
    ],
    "source": [
      "# visualize data\n",
      "#\n",
      "# display flattened patches\n",
      "\n",
      "# display first 10 flattened patches up to 25 values\n",
      "heat_map = x_p[:10, :25]\n",
      "\n",
      "yticklabels = ['patch ' + str(i + 1) for i in range(10)]\n",
      "\n",
      "plt.title('First 10 Flattened Patches')\n",
      "ax = sns.heatmap(heat_map,\n",
      "                 cmap=sns.light_palette(\"#a275ac\", as_cmap=True),\n",
      "                 xticklabels=False, yticklabels=yticklabels,\n",
      "                 linewidths=0.01, linecolor='white'\n",
      "                )\n"
    ],
    "id": "3e39c36c"
  },
  {
    "cell_type": "markdown",
    "metadata": {
      "id": "d7b7913a"
    },
    "source": [
      "## Embedding Patches\n",
      "\n",
      "<img src='https://drive.google.com/uc?id=1otAErIvmK1LjzBb8AWT-lh7bvVwg7cEi' width=80% height=80% />"
    ],
    "id": "d7b7913a"
  },
  {
    "cell_type": "markdown",
    "metadata": {
      "id": "b4700a93"
    },
    "source": [
      ">The Transformer uses constant latent vector size D through all of its layers, so we flatten the patches and map to D dimensions with a trainable linear projection. We refer to the output of this projection as the **patch embeddings**. <br><sub>3.1 Vision Transformer (ViT)<sub>"
    ],
    "id": "b4700a93"
  },
  {
    "cell_type": "code",
    "execution_count": 6,
    "metadata": {
      "colab": {
        "base_uri": "https://localhost:8080/"
      },
      "id": "d2405829",
      "outputId": "83ecf963-1875-48b1-aa5d-1fc20453b5e7"
    },
    "outputs": [
      {
        "output_type": "stream",
        "name": "stdout",
        "text": [
          "torch.Size([1, 64, 768])\n"
        ]
      }
    ],
    "source": [
      "# unit test on patch embeddings\n",
      "\n",
      "# dimensionality of patch embeddings\n",
      "D = 768\n",
      "\n",
      "# batch size\n",
      "B = 1\n",
      "\n",
      "# convert flattened patches to tensor\n",
      "x_p = torch.Tensor(x_p)\n",
      "\n",
      "# add batch dimension\n",
      "x_p = x_p[None, ...]\n",
      "\n",
      "# weight matrix E\n",
      "E = nn.Parameter(torch.randn(1, P * P * C, D))\n",
      "\n",
      "patch_embeddings = torch.matmul(x_p , E)\n",
      "\n",
      "assert patch_embeddings.shape == (B, N, D)\n",
      "print(patch_embeddings.shape)"
    ],
    "id": "d2405829"
  },
  {
    "cell_type": "markdown",
    "metadata": {
      "id": "9b0fd028"
    },
    "source": [
      "## Class Token\n",
      "\n",
      "<img src='https://drive.google.com/uc?id=1-Z4jAPogjk8cAkzMwKNereXQ8qZHUjKO' width=55% height=55%/>"
    ],
    "id": "9b0fd028"
  },
  {
    "cell_type": "markdown",
    "metadata": {
      "id": "e2fb218f"
    },
    "source": [
      ">In order to perform classification, we use the standard approach of adding an extra learnable “classification token” to the sequence. <br><sub>Model Overview<sub>\n",
      "\n",
      ">Similar to BERT’s [class] token, we prepend a learnable embedding to the sequence of embedded patches (xclass). <br><sub>3.1 Vision Transformer (ViT)<sub>"
    ],
    "id": "e2fb218f"
  },
  {
    "cell_type": "code",
    "execution_count": 7,
    "metadata": {
      "colab": {
        "base_uri": "https://localhost:8080/"
      },
      "id": "e23ee622",
      "outputId": "5035f8c1-1ed2-4ad0-f074-9163a216d3e5"
    },
    "outputs": [
      {
        "output_type": "stream",
        "name": "stdout",
        "text": [
          "torch.Size([1, 65, 768])\n"
        ]
      }
    ],
    "source": [
      "# unit test on class token\n",
      "\n",
      "# init class token\n",
      "class_token = nn.Parameter(torch.randn(1, 1, D))\n",
      "\n",
      "patch_embeddings = torch.cat((class_token, patch_embeddings), 1)\n",
      "\n",
      "print(patch_embeddings.shape)\n",
      "assert patch_embeddings.shape == (B, N + 1, D)"
    ],
    "id": "e23ee622"
  },
  {
    "cell_type": "markdown",
    "metadata": {
      "id": "041275ce"
    },
    "source": [
      "## Position Embedding\n",
      "<img src='https://drive.google.com/uc?id=1EprjkndxJk0frqLkeeDMhHuX-BqPQTg2' width=60% height=60%/>"
    ],
    "id": "041275ce"
  },
  {
    "cell_type": "markdown",
    "metadata": {
      "id": "93443be4"
    },
    "source": [
      ">Position embeddings are added to the patch embeddings to **retain positional information**. We use\n",
      "standard learnable 1D position embeddings. <br><sub>3.1 Vision Transformer (ViT)<sub>"
    ],
    "id": "93443be4"
  },
  {
    "cell_type": "code",
    "execution_count": 8,
    "metadata": {
      "colab": {
        "base_uri": "https://localhost:8080/"
      },
      "id": "4f46a1ca",
      "outputId": "2fd59c55-d2c3-42f7-c552-976fd820808b"
    },
    "outputs": [
      {
        "output_type": "stream",
        "name": "stdout",
        "text": [
          "torch.Size([1, 65, 768])\n"
        ]
      }
    ],
    "source": [
      "# unit test on position embedddings\n",
      "\n",
      "# position embeddings\n",
      "E_pos = nn.Parameter(torch.randn(1, N + 1, D))\n",
      "\n",
      "z0 = patch_embeddings + E_pos\n",
      "\n",
      "print(z0.shape)\n",
      "assert z0.shape == (B, N + 1, D)"
    ],
    "id": "4f46a1ca"
  },
  {
    "cell_type": "markdown",
    "metadata": {
      "id": "31fde5f7"
    },
    "source": [
      "## Self-Attention\n",
      "\n",
      "<img src='https://drive.google.com/uc?id=1hVG_BB_oW5f8ZNP3vOAYlK7npzbHDtb4'/>"
    ],
    "id": "31fde5f7"
  },
  {
    "cell_type": "code",
    "execution_count": 9,
    "metadata": {
      "id": "8a00b7c8"
    },
    "outputs": [],
    "source": [
      "class SelfAttention(nn.Module):\n",
      "    def __init__(self, embedding_dim=768, key_dim=64):\n",
      "        super(SelfAttention, self).__init__()\n",
      "\n",
      "        self.embedding_dim = embedding_dim   # D -> embedding dimensionaltiy\n",
      "        self.key_dim = key_dim               # D_h -> key, query, value dimensionality\n",
      "\n",
      "        # U_kqv weight matrix\n",
      "        self.W = nn.Parameter(torch.randn(embedding_dim, 3*key_dim))\n",
      "\n",
      "    def forward(self, x):\n",
      "        key_dim = self.key_dim\n",
      "\n",
      "        # get query, key and value projection\n",
      "        qkv = torch.matmul(x, self.W)\n",
      "\n",
      "        # get query, key, value\n",
      "        q = qkv[:, :, :key_dim]\n",
      "        k = qkv[:, :, key_dim:key_dim*2 ]\n",
      "        v = qkv[:, :, key_dim*2:]\n",
      "\n",
      "        # compute dot product of the all query with all keys\n",
      "        k_T = torch.transpose(k, -2, -1)   # get transpose of key\n",
      "        dot_products = torch.matmul(q, k_T)\n",
      "\n",
      "        # divide each by √Dh\n",
      "        scaled_dot_products = dot_products / np.sqrt(key_dim)\n",
      "\n",
      "        # apply a softmax function to obtain attention weights -> A\n",
      "        attention_weights = F.softmax(scaled_dot_products, dim=1)\n",
      "\n",
      "        # get weighted values\n",
      "        weighted_values = torch.matmul(attention_weights, v)\n",
      "\n",
      "        # return weighted_values\n",
      "        return weighted_values"
    ],
    "id": "8a00b7c8"
  },
  {
    "cell_type": "code",
    "execution_count": 10,
    "metadata": {
      "colab": {
        "base_uri": "https://localhost:8080/"
      },
      "id": "8f052100",
      "outputId": "7acea66e-f201-439b-cb2a-f937e8cdd087"
    },
    "outputs": [
      {
        "output_type": "stream",
        "name": "stdout",
        "text": [
          "torch.Size([1, 65, 64])\n"
        ]
      }
    ],
    "source": [
      "# unit test on self-attention\n",
      "\n",
      "# dimensionality of key, query and value\n",
      "D_h = 64\n",
      "\n",
      "# init self-attention\n",
      "self_attention = SelfAttention(D, D_h)   # embedding_dim, key_dim\n",
      "\n",
      "attention_scores = self_attention(patch_embeddings)\n",
      "\n",
      "print(attention_scores.shape)\n",
      "assert attention_scores.shape == (B, N + 1, D_h)"
    ],
    "id": "8f052100"
  },
  {
    "cell_type": "markdown",
    "metadata": {
      "id": "7fa436b0"
    },
    "source": [
      "## Multi-Head Self-Attention\n",
      "\n",
      "<img src='https://drive.google.com/uc?id=1BwamFmKIg72nrTBeLJr8otvF6B2WDpUn'/>"
    ],
    "id": "7fa436b0"
  },
  {
    "cell_type": "code",
    "execution_count": 11,
    "metadata": {
      "id": "972aa577"
    },
    "outputs": [],
    "source": [
      "class MultiHeadSelfAttention(nn.Module):\n",
      "    def __init__(self, embedding_dim=768, num_heads=12):\n",
      "        super(MultiHeadSelfAttention, self).__init__()\n",
      "\n",
      "        self.num_heads = num_heads            # set number of heads (k)\n",
      "        self.embedding_dim = embedding_dim    # set dimensionality\n",
      "\n",
      "        assert embedding_dim % num_heads == 0   # dimensionality should be divisible by number of heads\n",
      "        self.key_dim = embedding_dim // n_head   # set key,query and value dimensionality\n",
      "\n",
      "        # init self-attentions\n",
      "        self.attention_list = [SelfAttention(embedding_dim, self.key_dim) for _ in range(num_heads)]\n",
      "        self.multi_head_attention = nn.ModuleList(self.attention_list)\n",
      "\n",
      "        # init U_msa weight matrix\n",
      "        self.W = nn.Parameter(torch.randn(num_heads * self.key_dim, embedding_dim))\n",
      "\n",
      "    def forward(self, x):\n",
      "        # compute self-attention scores of each head\n",
      "        attention_scores = [attention(x) for attention in self.multi_head_attention]\n",
      "\n",
      "        # concat attentions\n",
      "        Z = torch.cat(attention_scores, -1)\n",
      "\n",
      "        # compute multi-head attention score\n",
      "        attention_score = torch.matmul(Z, self.W)\n",
      "\n",
      "        return attention_score\n"
    ],
    "id": "972aa577"
  },
  {
    "cell_type": "code",
    "execution_count": 12,
    "metadata": {
      "colab": {
        "base_uri": "https://localhost:8080/"
      },
      "id": "b5b6ecb4",
      "outputId": "10ab27e7-a499-4a0f-bf2f-c19420ff2fa9"
    },
    "outputs": [
      {
        "output_type": "stream",
        "name": "stdout",
        "text": [
          "torch.Size([1, 65, 768])\n"
        ]
      }
    ],
    "source": [
      "# unit test on multi-head self-attention\n",
      "\n",
      "# number of heads (k)\n",
      "n_head = 12\n",
      "\n",
      "# init multi-head self-attention\n",
      "multi_head_attention = MultiHeadSelfAttention(D, n_head)\n",
      "\n",
      "# compute MSA score\n",
      "attention_score = multi_head_attention(patch_embeddings)\n",
      "\n",
      "print(attention_score.shape)\n",
      "assert attention_score.shape == (B, N + 1, D)"
    ],
    "id": "b5b6ecb4"
  },
  {
    "cell_type": "markdown",
    "metadata": {
      "id": "42fc8593"
    },
    "source": [
      "## Multi-Layer Perceptron\n",
      "\n",
      "<img src='https://drive.google.com/uc?id=10ITRufcZRm_4xrXp4_zhdhShzBYQTRsp' width=80% height=80%/>"
    ],
    "id": "42fc8593"
  },
  {
    "cell_type": "markdown",
    "metadata": {
      "id": "73fa986f"
    },
    "source": [
      ">The MLP contains two layers with a GELU non-linearity. <br><sub>3.1 Vision Transformer (ViT)<sub>"
    ],
    "id": "73fa986f"
  },
  {
    "cell_type": "code",
    "execution_count": 13,
    "metadata": {
      "id": "5924c402"
    },
    "outputs": [],
    "source": [
      "class MultiLayerPerceptron(nn.Module):\n",
      "    def __init__(self, embedding_dim=768, hidden_dim=3072):\n",
      "        super(MultiLayerPerceptron, self).__init__()\n",
      "\n",
      "        self.mlp = nn.Sequential(\n",
      "                            nn.Linear(embedding_dim, hidden_dim),\n",
      "                            nn.GELU(),\n",
      "                            nn.Linear(hidden_dim, embedding_dim)\n",
      "                   )\n",
      "\n",
      "    def forward(self, x):\n",
      "        # pass through multi-layer perceptron\n",
      "        x = self.mlp(x)\n",
      "        return x"
    ],
    "id": "5924c402"
  },
  {
    "cell_type": "code",
    "execution_count": 14,
    "metadata": {
      "colab": {
        "base_uri": "https://localhost:8080/"
      },
      "id": "dbb10d63",
      "outputId": "c0039387-d4cc-4186-d80a-d5b775175665"
    },
    "outputs": [
      {
        "output_type": "execute_result",
        "data": {
          "text/plain": [
            "torch.Size([1, 65, 768])"
          ]
        },
        "metadata": {},
        "execution_count": 14
      }
    ],
    "source": [
      "# unit test on multi-layer perceptron\n",
      "\n",
      "# hidden layer dimensionality\n",
      "hidden_dim = 3072\n",
      "\n",
      "# init mlp\n",
      "mlp = MultiLayerPerceptron(D, hidden_dim)\n",
      "\n",
      "# compute mlp output\n",
      "output = mlp(patch_embeddings)\n",
      "\n",
      "assert output.shape == (B, N + 1, D)\n",
      "output.shape"
    ],
    "id": "dbb10d63"
  },
  {
    "cell_type": "markdown",
    "metadata": {
      "id": "d7063e67"
    },
    "source": [
      "## Transformer Encoder\n",
      "\n",
      "<img src='https://drive.google.com/uc?id=1msdVyorMThi1vn4exbC9_XfxIsqnJQnc'/>"
    ],
    "id": "d7063e67"
  },
  {
    "cell_type": "markdown",
    "metadata": {
      "id": "8e035d4c"
    },
    "source": [
      ">The Transformer encoder consists of alternating layers of multiheaded self-attention (MSA) and MLP blocks. Layernorm (LN) is applied before every block, and residual connections after every block. <br><sub>3.1 Vision Transformer (ViT)<sub>"
    ],
    "id": "8e035d4c"
  },
  {
    "cell_type": "code",
    "execution_count": 15,
    "metadata": {
      "id": "75550f6c"
    },
    "outputs": [],
    "source": [
      "class TransformerEncoder(nn.Module):\n",
      "    def __init__(self, embedding_dim=768, num_heads=12, hidden_dim=3072, dropout_prob=0.1):\n",
      "        super(TransformerEncoder, self).__init__()\n",
      "\n",
      "        self.MSA = MultiHeadSelfAttention(embedding_dim, num_heads)\n",
      "        self.MLP = MultiLayerPerceptron(embedding_dim, hidden_dim)\n",
      "\n",
      "        self.layer_norm1 = nn.LayerNorm(embedding_dim)\n",
      "        self.layer_norm2 = nn.LayerNorm(embedding_dim)\n",
      "\n",
      "        self.dropout1 = nn.Dropout(p=dropout_prob)\n",
      "        self.dropout2 = nn.Dropout(p=dropout_prob)\n",
      "        self.dropout3 = nn.Dropout(p=dropout_prob)\n",
      "\n",
      "    def forward(self, x):\n",
      "        # apply dropout\n",
      "        out_1 = self.dropout1(x)\n",
      "        # apply layer normalization\n",
      "        out_2 = self.layer_norm1(out_1)\n",
      "        # compute multi-head self-attention\n",
      "        msa_out = self.MSA(out_2)\n",
      "        # apply dropout\n",
      "        out_3 = self.dropout2(msa_out)\n",
      "        # apply residual connection\n",
      "        res_out = x + out_3\n",
      "        # apply layer normalization\n",
      "        out_4 = self.layer_norm2(res_out)\n",
      "        # compute mlp output\n",
      "        mlp_out = self.MLP(out_4)\n",
      "        # apply dropout\n",
      "        out_5 = self.dropout3(mlp_out)\n",
      "        # apply residual connection\n",
      "        output = res_out + out_5\n",
      "\n",
      "        return output"
    ],
    "id": "75550f6c"
  },
  {
    "cell_type": "code",
    "execution_count": 16,
    "metadata": {
      "colab": {
        "base_uri": "https://localhost:8080/"
      },
      "id": "ec3588b5",
      "outputId": "65546386-2643-4af0-8f0e-9aaa24837daf"
    },
    "outputs": [
      {
        "output_type": "execute_result",
        "data": {
          "text/plain": [
            "torch.Size([1, 65, 768])"
          ]
        },
        "metadata": {},
        "execution_count": 16
      }
    ],
    "source": [
      "# unit test on transformer encoder\n",
      "\n",
      "# dropout probability\n",
      "dropout_prob = 0.1\n",
      "\n",
      "# init transformer encoder\n",
      "transformer_encoder = TransformerEncoder(D, n_head, hidden_dim, dropout_prob)\n",
      "\n",
      "# compute transformer encoder output\n",
      "output = transformer_encoder(patch_embeddings)\n",
      "\n",
      "assert output.shape == (B, N + 1, D)\n",
      "output.shape"
    ],
    "id": "ec3588b5"
  },
  {
    "cell_type": "markdown",
    "metadata": {
      "id": "209e8291"
    },
    "source": [
      "<img src='https://drive.google.com/uc?id=1Qij2VIIIj_Md4hAQLGIwOkUpxMQ2SNTS' width=60% height=60%/>"
    ],
    "id": "209e8291"
  },
  {
    "cell_type": "markdown",
    "metadata": {
      "id": "d3098b9e"
    },
    "source": [
      ">We found strong regularization to be key when training models from scratch on ImageNet. Dropout, when used, is applied after every dense layer except for the the qkv-projections and directly after adding positional to patch embeddings. <br><sub>B.1 Training<sub>"
    ],
    "id": "d3098b9e"
  },
  {
    "cell_type": "markdown",
    "metadata": {
      "id": "7a85c710"
    },
    "source": [
      "## MLP Head\n",
      "\n",
      "<img src='https://drive.google.com/uc?id=1FZL9w-Wzy5YYW6iu6eFe54GJYHjxpKM9'/>"
    ],
    "id": "7a85c710"
  },
  {
    "cell_type": "markdown",
    "metadata": {
      "id": "97b0e440"
    },
    "source": [
      ">The classification head is implemented by a MLP with one hidden layer at pre-training\n",
      "time and by a single linear layer at fine-tuning time. <br><sub>3.1 Vision Transformer (ViT)<sub>\n",
      "\n",
      "> In order to stay as close as possible to the original Transformer model, we made use of an additional [class] token, which is taken as image representation. The output of this token is then transformed into a class prediction via a small multi-layer perceptron (MLP) with tanh as non-linearity in the single hidden layer. <br><sub>D.3 Head Type and Class Token<sub>"
    ],
    "id": "97b0e440"
  },
  {
    "cell_type": "code",
    "execution_count": 17,
    "metadata": {
      "id": "6ca2c74c"
    },
    "outputs": [],
    "source": [
      "class MLPHead(nn.Module):\n",
      "    def __init__(self, embedding_dim=768, num_classes=10, fine_tune=False):\n",
      "        super(MLPHead, self).__init__()\n",
      "        self.num_classes = num_classes\n",
      "\n",
      "        if not fine_tune:\n",
      "            # hidden layer with tanh activation function\n",
      "            self.mlp_head = nn.Sequential(\n",
      "                                    nn.Linear(embedding_dim, 3072),  # hidden layer\n",
      "                                    nn.Tanh(),\n",
      "                                    nn.Linear(3072, num_classes)    # output layer\n",
      "                            )\n",
      "        else:\n",
      "            # single linear layer\n",
      "            self.mlp_head = nn.Linear(embedding_dim, num_classes)\n",
      "\n",
      "    def forward(self, x):\n",
      "        x = self.mlp_head(x)\n",
      "        return x\n"
    ],
    "id": "6ca2c74c"
  },
  {
    "cell_type": "code",
    "execution_count": 18,
    "metadata": {
      "colab": {
        "base_uri": "https://localhost:8080/"
      },
      "id": "feeb9c25",
      "outputId": "ba0a3ddf-e030-4b1d-c842-e242cf2e9aa3"
    },
    "outputs": [
      {
        "output_type": "stream",
        "name": "stdout",
        "text": [
          "10\n"
        ]
      }
    ],
    "source": [
      "# unit test on classification head\n",
      "\n",
      "\n",
      "# extract [class] token from transformer encoder output\n",
      "z_L = output[0][0]   # extract batch and [class] token\n",
      "\n",
      "# init number of classes\n",
      "n_class = 10\n",
      "\n",
      "# init classification head for pre-training phase\n",
      "mlp_head_pretrain = MLPHead(D, n_class)\n",
      "# init classification head for fine-tuning phase\n",
      "mlp_head_finetune = MLPHead(D, n_class, fine_tune=True)\n",
      "\n",
      "# compute mlp head output\n",
      "output_1 = mlp_head_pretrain(z_L)\n",
      "# compute mlp head output for fine-tuning\n",
      "output_2 = mlp_head_finetune(z_L)\n",
      "\n",
      "# size of output\n",
      "print(output_1.size(dim=0))\n",
      "\n",
      "# assert output is consistent with number of classes\n",
      "assert output_1.size(dim=0) == n_class\n",
      "assert output_2.size(dim=0) == n_class"
    ],
    "id": "feeb9c25"
  },
  {
    "cell_type": "markdown",
    "metadata": {
      "id": "bc17b495"
    },
    "source": [
      "## Vision Transformer\n",
      "\n",
      "<img src='https://drive.google.com/uc?id=1Q8vD7f-c0N8izFagyXngm3Gy2tlU3LVE'/>"
    ],
    "id": "bc17b495"
  },
  {
    "cell_type": "markdown",
    "metadata": {
      "id": "ccf045c2"
    },
    "source": [
      ">We split an image into fixed-size patches, linearly embed each of them, add position embeddings, and feed the resulting sequence of vectors to a standard Transformer encoder. <br><sub>Model Overview<sub>"
    ],
    "id": "ccf045c2"
  },
  {
    "cell_type": "markdown",
    "metadata": {
      "id": "d5b2980e"
    },
    "source": [
      "<img src='https://drive.google.com/uc?id=118AfS8AtvrHWGrz8pD8bCzh7QqPL5K8G'/>"
    ],
    "id": "d5b2980e"
  },
  {
    "cell_type": "markdown",
    "metadata": {
      "id": "94fc99d1"
    },
    "source": [
      "> The output of the Transformer encoder (zL0) serves as the image representation y. Both during pre-training and fine-tuning, a classification head is attached to zL0. <br><sub>3.1 Vision Transformer (ViT)<sub>\n"
    ],
    "id": "94fc99d1"
  },
  {
    "cell_type": "code",
    "execution_count": 19,
    "metadata": {
      "id": "2ffa1e89"
    },
    "outputs": [],
    "source": [
      "class VisionTransformer(nn.Module):\n",
      "    def __init__(self, patch_size=16, image_size=224, channel_size=3,\n",
      "                     num_layers=12, embedding_dim=768, num_heads=12, hidden_dim=3072,\n",
      "                            dropout_prob=0.1, num_classes=10, pretrain=True):\n",
      "        super(VisionTransformer, self).__init__()\n",
      "\n",
      "        self.patch_size = patch_size\n",
      "        self.channel_size = channel_size\n",
      "        self.num_layers = num_layers\n",
      "        self.embedding_dim = embedding_dim\n",
      "        self.num_heads = num_heads\n",
      "        self.hidden_dim = hidden_dim\n",
      "        self.dropout_prob = dropout_prob\n",
      "        self.num_classes = num_classes\n",
      "\n",
      "        # get number of patches of the image\n",
      "        self.num_patches = int(image_size ** 2 / patch_size ** 2)   # height * width / patch size ^ 2\n",
      "\n",
      "        # trainable linear projection for mapping dimension of patches (weight matrix E)\n",
      "        self.W = nn.Parameter(\n",
      "                    torch.randn( patch_size * patch_size * channel_size, embedding_dim))\n",
      "\n",
      "        # position embeddings (E_pos)\n",
      "        self.pos_embedding = nn.Parameter(torch.randn(self.num_patches + 1, embedding_dim))\n",
      "\n",
      "        # learnable class token embedding (x_class)\n",
      "        self.class_token = nn.Parameter(torch.rand(1, D))\n",
      "\n",
      "        # stack transformer encoder layers\n",
      "        transformer_encoder_list = [\n",
      "            TransformerEncoder(embedding_dim, num_heads, hidden_dim, dropout_prob)\n",
      "                    for _ in range(num_layers)]\n",
      "        self.transformer_encoder_layers = nn.Sequential(*transformer_encoder_list)\n",
      "\n",
      "        # mlp head\n",
      "        self.mlp_head = MLPHead(embedding_dim, num_classes)\n",
      "\n",
      "    def forward(self, x):\n",
      "        # get patch size and channel size\n",
      "        P, C = self.patch_size, self.channel_size\n",
      "\n",
      "        # split image into patches\n",
      "        patches = x.unfold(1, C, C).unfold(2, P, P).unfold(3, P, P)\n",
      "        patches = patches.contiguous().view(patches.size(0), -1, C * P * P).float()\n",
      "\n",
      "        # linearly embed patches\n",
      "        patch_embeddings = torch.matmul(patches , self.W)\n",
      "\n",
      "        # add class token\n",
      "        batch_size = patch_embeddings.shape[0]\n",
      "        patch_embeddings = torch.cat((self.class_token.repeat(batch_size, 1, 1), patch_embeddings), 1)\n",
      "\n",
      "        # add positional embedding\n",
      "        patch_embeddings = patch_embeddings + self.pos_embedding\n",
      "\n",
      "        # feed patch embeddings into a stack of Transformer encoders\n",
      "        transformer_encoder_output = self.transformer_encoder_layers(patch_embeddings)\n",
      "\n",
      "        # extract [class] token from encoder output\n",
      "        output_class_token = transformer_encoder_output[:, 0]\n",
      "\n",
      "        # pass token through mlp head for classification\n",
      "        y = self.mlp_head(output_class_token)\n",
      "\n",
      "        return y"
    ],
    "id": "2ffa1e89"
  },
  {
    "cell_type": "code",
    "execution_count": 20,
    "metadata": {
      "colab": {
        "base_uri": "https://localhost:8080/"
      },
      "id": "026d78f1",
      "outputId": "e3a62a5b-e378-4c82-9f93-e0678de344a7"
    },
    "outputs": [
      {
        "output_type": "stream",
        "name": "stdout",
        "text": [
          "torch.Size([1, 10])\n",
          "tensor(1.0000, grad_fn=<SumBackward0>)\n"
        ]
      }
    ],
    "source": [
      "# unit test on vision transformer\n",
      "\n",
      "image_size = 224; channel_size = 3\n",
      "\n",
      "# number of classes CIFAR-10\n",
      "n_class = 10\n",
      "\n",
      "# dropout probability\n",
      "dropout_prob = 0.1\n",
      "\n",
      "# Vit-base model configurations\n",
      "n_layer = 12; embedding_dim = 768; n_head = 12; hidden_dim=3072\n",
      "\n",
      "# read and resize image\n",
      "image = Image.open('car.png').resize((image_size, image_size))\n",
      "\n",
      "# convert PIL image to tensor\n",
      "X = T.PILToTensor()(image)\n",
      "\n",
      "# add batch dimension\n",
      "X =  X[None, ...]    # batch size = 1\n",
      "\n",
      "# An Image Is Worth 16x16 Words\n",
      "patch_size = 16\n",
      "\n",
      "# init vision transformer model\n",
      "vision_transformer = VisionTransformer(patch_size, image_size, channel_size,\n",
      "                            n_layer, embedding_dim, n_head, hidden_dim, dropout_prob, n_class)\n",
      "\n",
      "# compute vision transformer output\n",
      "vit_output = vision_transformer(X)\n",
      "\n",
      "assert vit_output.size(dim=1) == n_class\n",
      "print(vit_output.shape)\n",
      "\n",
      "# get class probabilities\n",
      "probabilities = F.softmax(vit_output[0], dim=0)\n",
      "\n",
      "# probabilities should sum up to 1\n",
      "print(torch.sum(probabilities))"
    ],
    "id": "026d78f1"
  },
  {
    "cell_type": "markdown",
    "metadata": {
      "id": "7b44e912"
    },
    "source": [
      "## Training Vision Transformer"
    ],
    "id": "7b44e912"
  },
  {
    "cell_type": "markdown",
    "metadata": {
      "id": "b6364f6b"
    },
    "source": [
      "We seek to have a look at how transformer performs by training the model. However, we are not able to use the configurations that are set for training in the paper since we do not have enough resources :)) Instead, we use different set of hyperparameters for batch size, learning rate, etc. to see the model performance. <br><br>\n",
      "\n",
      "After several failing attempts and discouraging results, we decide not to train the model implemented here from scratch. To see how model performs, we will use the pytorch [Vision Transformer](https://pytorch.org/vision/main/models/vision_transformer.html) model with pre-trained weights using [CIFAR-10](https://www.cs.toronto.edu/~kriz/cifar.html) dataset."
    ],
    "id": "b6364f6b"
  },
  {
    "cell_type": "markdown",
    "metadata": {
      "id": "08b41858"
    },
    "source": [
      ">We train all models, including ResNets, using Adam with β1 = 0.9, β2 = 0.999, a batch size of 4096 and apply a high weight decay of 0.1, which we found to be useful for transfer of all models. <br><sub>4.1 Setup **Training & Fine-tuning**<sub>\n",
      "\n",
      ">To boost the performance on the smaller datasets, we optimize three basic regularization parameters – weight decay, dropout, and label smoothing. <br><sub>4.3 Pre-Training Data Requirement<sub>"
    ],
    "id": "08b41858"
  },
  {
    "cell_type": "code",
    "execution_count": 21,
    "metadata": {
      "id": "b80aa8e0"
    },
    "outputs": [],
    "source": [
      "import torchvision\n",
      "from torchvision import datasets"
    ],
    "id": "b80aa8e0"
  },
  {
    "cell_type": "code",
    "execution_count": 22,
    "metadata": {
      "id": "c667bc3d"
    },
    "outputs": [],
    "source": [
      "from torch.utils.data import DataLoader\n",
      "from torch.utils.data.sampler import SubsetRandomSampler"
    ],
    "id": "c667bc3d"
  },
  {
    "cell_type": "code",
    "execution_count": 23,
    "metadata": {
      "id": "8aabbcf8"
    },
    "outputs": [],
    "source": [
      "import torchvision.models as models"
    ],
    "id": "8aabbcf8"
  },
  {
    "cell_type": "code",
    "execution_count": 24,
    "metadata": {
      "id": "40e8de79"
    },
    "outputs": [],
    "source": [
      "import torch.optim as optim\n",
      "import torch.optim.lr_scheduler as lr_scheduler"
    ],
    "id": "40e8de79"
  },
  {
    "cell_type": "code",
    "execution_count": 25,
    "metadata": {
      "colab": {
        "base_uri": "https://localhost:8080/"
      },
      "id": "eaaf46f8",
      "outputId": "56a8295d-ab5e-4343-fb18-20abcbb9148c"
    },
    "outputs": [
      {
        "output_type": "stream",
        "name": "stdout",
        "text": [
          "Downloading http://www.cs.toronto.edu/~kriz/cifar-10-python.tar.gz to data/cifar-10-python.tar.gz\n"
        ]
      },
      {
        "output_type": "stream",
        "name": "stderr",
        "text": [
          "100%|██████████| 170498071/170498071 [00:13<00:00, 12362457.02it/s]\n"
        ]
      },
      {
        "output_type": "stream",
        "name": "stdout",
        "text": [
          "Extracting data/cifar-10-python.tar.gz to data\n",
          "Files already downloaded and verified\n"
        ]
      },
      {
        "output_type": "execute_result",
        "data": {
          "text/plain": [
            "['airplane',\n",
            " 'automobile',\n",
            " 'bird',\n",
            " 'cat',\n",
            " 'deer',\n",
            " 'dog',\n",
            " 'frog',\n",
            " 'horse',\n",
            " 'ship',\n",
            " 'truck']"
          ]
        },
        "metadata": {},
        "execution_count": 25
      }
    ],
    "source": [
      "# Load data\n",
      "#\n",
      "# We will use a subset of CIFAR10 dataset\n",
      "\n",
      "image_size = 224\n",
      "\n",
      "# define transform\n",
      "transform = T.Compose([ T.Resize(image_size), T.ToTensor() ])\n",
      "\n",
      "torchvision.datasets.CIFAR10.url=\"http://www.cs.toronto.edu/~kriz/cifar-10-python.tar.gz\"\n",
      "\n",
      "# init CIFAR10 training and test datasets\n",
      "trainset = datasets.CIFAR10(root='data', train=True, download=True, transform=transform)\n",
      "testset = datasets.CIFAR10(root='data', train=False, download=True, transform=transform)\n",
      "\n",
      "# get class names\n",
      "classes = trainset.classes\n",
      "\n",
      "# get a subset of the trainset and test set\n",
      "trainset = torch.utils.data.Subset(trainset, list(range(5000)))\n",
      "testset = torch.utils.data.Subset(testset, list(range(1000)))\n",
      "\n",
      "# output classes\n",
      "classes"
    ],
    "id": "eaaf46f8"
  },
  {
    "cell_type": "code",
    "execution_count": 26,
    "metadata": {
      "id": "45bc1854"
    },
    "outputs": [],
    "source": [
      "# define data loaders\n",
      "\n",
      "batch_size = 16\n",
      "\n",
      "# percentage of training set to use as validation\n",
      "valid_size = 0.2\n",
      "\n",
      "# get training indices that wil be used for validation\n",
      "train_size = len(trainset)\n",
      "indices = list(range(train_size))\n",
      "np.random.shuffle(indices)\n",
      "split = int(np.floor(valid_size * train_size))\n",
      "train_idx, valid_idx = indices[split:], indices[:split]\n",
      "\n",
      "# define samplers to obtain training and validation batches\n",
      "train_sampler = SubsetRandomSampler(train_idx)\n",
      "valid_sampler = SubsetRandomSampler(valid_idx)\n",
      "\n",
      "# prepare data loaders\n",
      "train_loader = DataLoader(trainset, batch_size=batch_size, sampler=train_sampler)\n",
      "valid_loader = DataLoader(trainset, batch_size=batch_size, sampler=valid_sampler)\n",
      "test_loader = DataLoader(testset, batch_size=batch_size)"
    ],
    "id": "45bc1854"
  },
  {
    "cell_type": "code",
    "execution_count": 27,
    "metadata": {
      "colab": {
        "base_uri": "https://localhost:8080/"
      },
      "id": "08dce6cf",
      "outputId": "b10068db-b801-4db5-ccd9-b63ced5fb551"
    },
    "outputs": [
      {
        "output_type": "stream",
        "name": "stdout",
        "text": [
          "The number of samples per classes in training dataset:\n",
          "\n",
          "\t 0: 425\n",
          "\t 1: 382\n",
          "\t 2: 395\n",
          "\t 3: 389\n",
          "\t 4: 411\n",
          "\t 5: 387\n",
          "\t 6: 416\n",
          "\t 7: 386\n",
          "\t 8: 420\n",
          "\t 9: 389\n",
          "\n",
          "The number of samples per classes in test dataset:\n",
          "\n",
          "\t 0: 103\n",
          "\t 1: 89\n",
          "\t 2: 100\n",
          "\t 3: 103\n",
          "\t 4: 90\n",
          "\t 5: 86\n",
          "\t 6: 112\n",
          "\t 7: 102\n",
          "\t 8: 106\n",
          "\t 9: 109\n"
        ]
      }
    ],
    "source": [
      "# print out classes statistics\n",
      "\n",
      "# get all training samples labels\n",
      "train_labels = [labels for i, (images, labels) in enumerate(train_loader)]\n",
      "train_labels = torch.cat((train_labels), 0)\n",
      "train_labels_count = train_labels.unique(return_counts=True)\n",
      "\n",
      "# print(train_labels_count)\n",
      "\n",
      "print('The number of samples per classes in training dataset:\\n')\n",
      "for label, count in zip(train_labels_count[0], train_labels_count[1]):\n",
      "    print('\\t {}: {}'.format(label, count))\n",
      "\n",
      "# get all test samples labels\n",
      "test_labels = [labels for i, (images, labels) in enumerate(test_loader)]\n",
      "test_labels = torch.cat((test_labels), 0)\n",
      "test_labels_count = test_labels.unique(return_counts=True)\n",
      "\n",
      "print()\n",
      "print('The number of samples per classes in test dataset:\\n')\n",
      "for label, count in zip(test_labels_count[0], test_labels_count[1]):\n",
      "    print('\\t {}: {}'.format(label, count))"
    ],
    "id": "08dce6cf"
  },
  {
    "cell_type": "code",
    "execution_count": 28,
    "metadata": {
      "colab": {
        "base_uri": "https://localhost:8080/"
      },
      "id": "214dfa03",
      "outputId": "5c9dad0e-2465-441f-e4f6-37ca659baf5f"
    },
    "outputs": [
      {
        "output_type": "stream",
        "name": "stderr",
        "text": [
          "Downloading: \"https://download.pytorch.org/models/vit_b_16-c867db91.pth\" to /root/.cache/torch/hub/checkpoints/vit_b_16-c867db91.pth\n",
          "100%|██████████| 330M/330M [00:02<00:00, 160MB/s]\n"
        ]
      },
      {
        "output_type": "execute_result",
        "data": {
          "text/plain": [
            "VisionTransformer(\n",
            "  (conv_proj): Conv2d(3, 768, kernel_size=(16, 16), stride=(16, 16))\n",
            "  (encoder): Encoder(\n",
            "    (dropout): Dropout(p=0.0, inplace=False)\n",
            "    (layers): Sequential(\n",
            "      (encoder_layer_0): EncoderBlock(\n",
            "        (ln_1): LayerNorm((768,), eps=1e-06, elementwise_affine=True)\n",
            "        (self_attention): MultiheadAttention(\n",
            "          (out_proj): NonDynamicallyQuantizableLinear(in_features=768, out_features=768, bias=True)\n",
            "        )\n",
            "        (dropout): Dropout(p=0.0, inplace=False)\n",
            "        (ln_2): LayerNorm((768,), eps=1e-06, elementwise_affine=True)\n",
            "        (mlp): MLPBlock(\n",
            "          (0): Linear(in_features=768, out_features=3072, bias=True)\n",
            "          (1): GELU(approximate='none')\n",
            "          (2): Dropout(p=0.0, inplace=False)\n",
            "          (3): Linear(in_features=3072, out_features=768, bias=True)\n",
            "          (4): Dropout(p=0.0, inplace=False)\n",
            "        )\n",
            "      )\n",
            "      (encoder_layer_1): EncoderBlock(\n",
            "        (ln_1): LayerNorm((768,), eps=1e-06, elementwise_affine=True)\n",
            "        (self_attention): MultiheadAttention(\n",
            "          (out_proj): NonDynamicallyQuantizableLinear(in_features=768, out_features=768, bias=True)\n",
            "        )\n",
            "        (dropout): Dropout(p=0.0, inplace=False)\n",
            "        (ln_2): LayerNorm((768,), eps=1e-06, elementwise_affine=True)\n",
            "        (mlp): MLPBlock(\n",
            "          (0): Linear(in_features=768, out_features=3072, bias=True)\n",
            "          (1): GELU(approximate='none')\n",
            "          (2): Dropout(p=0.0, inplace=False)\n",
            "          (3): Linear(in_features=3072, out_features=768, bias=True)\n",
            "          (4): Dropout(p=0.0, inplace=False)\n",
            "        )\n",
            "      )\n",
            "      (encoder_layer_2): EncoderBlock(\n",
            "        (ln_1): LayerNorm((768,), eps=1e-06, elementwise_affine=True)\n",
            "        (self_attention): MultiheadAttention(\n",
            "          (out_proj): NonDynamicallyQuantizableLinear(in_features=768, out_features=768, bias=True)\n",
            "        )\n",
            "        (dropout): Dropout(p=0.0, inplace=False)\n",
            "        (ln_2): LayerNorm((768,), eps=1e-06, elementwise_affine=True)\n",
            "        (mlp): MLPBlock(\n",
            "          (0): Linear(in_features=768, out_features=3072, bias=True)\n",
            "          (1): GELU(approximate='none')\n",
            "          (2): Dropout(p=0.0, inplace=False)\n",
            "          (3): Linear(in_features=3072, out_features=768, bias=True)\n",
            "          (4): Dropout(p=0.0, inplace=False)\n",
            "        )\n",
            "      )\n",
            "      (encoder_layer_3): EncoderBlock(\n",
            "        (ln_1): LayerNorm((768,), eps=1e-06, elementwise_affine=True)\n",
            "        (self_attention): MultiheadAttention(\n",
            "          (out_proj): NonDynamicallyQuantizableLinear(in_features=768, out_features=768, bias=True)\n",
            "        )\n",
            "        (dropout): Dropout(p=0.0, inplace=False)\n",
            "        (ln_2): LayerNorm((768,), eps=1e-06, elementwise_affine=True)\n",
            "        (mlp): MLPBlock(\n",
            "          (0): Linear(in_features=768, out_features=3072, bias=True)\n",
            "          (1): GELU(approximate='none')\n",
            "          (2): Dropout(p=0.0, inplace=False)\n",
            "          (3): Linear(in_features=3072, out_features=768, bias=True)\n",
            "          (4): Dropout(p=0.0, inplace=False)\n",
            "        )\n",
            "      )\n",
            "      (encoder_layer_4): EncoderBlock(\n",
            "        (ln_1): LayerNorm((768,), eps=1e-06, elementwise_affine=True)\n",
            "        (self_attention): MultiheadAttention(\n",
            "          (out_proj): NonDynamicallyQuantizableLinear(in_features=768, out_features=768, bias=True)\n",
            "        )\n",
            "        (dropout): Dropout(p=0.0, inplace=False)\n",
            "        (ln_2): LayerNorm((768,), eps=1e-06, elementwise_affine=True)\n",
            "        (mlp): MLPBlock(\n",
            "          (0): Linear(in_features=768, out_features=3072, bias=True)\n",
            "          (1): GELU(approximate='none')\n",
            "          (2): Dropout(p=0.0, inplace=False)\n",
            "          (3): Linear(in_features=3072, out_features=768, bias=True)\n",
            "          (4): Dropout(p=0.0, inplace=False)\n",
            "        )\n",
            "      )\n",
            "      (encoder_layer_5): EncoderBlock(\n",
            "        (ln_1): LayerNorm((768,), eps=1e-06, elementwise_affine=True)\n",
            "        (self_attention): MultiheadAttention(\n",
            "          (out_proj): NonDynamicallyQuantizableLinear(in_features=768, out_features=768, bias=True)\n",
            "        )\n",
            "        (dropout): Dropout(p=0.0, inplace=False)\n",
            "        (ln_2): LayerNorm((768,), eps=1e-06, elementwise_affine=True)\n",
            "        (mlp): MLPBlock(\n",
            "          (0): Linear(in_features=768, out_features=3072, bias=True)\n",
            "          (1): GELU(approximate='none')\n",
            "          (2): Dropout(p=0.0, inplace=False)\n",
            "          (3): Linear(in_features=3072, out_features=768, bias=True)\n",
            "          (4): Dropout(p=0.0, inplace=False)\n",
            "        )\n",
            "      )\n",
            "      (encoder_layer_6): EncoderBlock(\n",
            "        (ln_1): LayerNorm((768,), eps=1e-06, elementwise_affine=True)\n",
            "        (self_attention): MultiheadAttention(\n",
            "          (out_proj): NonDynamicallyQuantizableLinear(in_features=768, out_features=768, bias=True)\n",
            "        )\n",
            "        (dropout): Dropout(p=0.0, inplace=False)\n",
            "        (ln_2): LayerNorm((768,), eps=1e-06, elementwise_affine=True)\n",
            "        (mlp): MLPBlock(\n",
            "          (0): Linear(in_features=768, out_features=3072, bias=True)\n",
            "          (1): GELU(approximate='none')\n",
            "          (2): Dropout(p=0.0, inplace=False)\n",
            "          (3): Linear(in_features=3072, out_features=768, bias=True)\n",
            "          (4): Dropout(p=0.0, inplace=False)\n",
            "        )\n",
            "      )\n",
            "      (encoder_layer_7): EncoderBlock(\n",
            "        (ln_1): LayerNorm((768,), eps=1e-06, elementwise_affine=True)\n",
            "        (self_attention): MultiheadAttention(\n",
            "          (out_proj): NonDynamicallyQuantizableLinear(in_features=768, out_features=768, bias=True)\n",
            "        )\n",
            "        (dropout): Dropout(p=0.0, inplace=False)\n",
            "        (ln_2): LayerNorm((768,), eps=1e-06, elementwise_affine=True)\n",
            "        (mlp): MLPBlock(\n",
            "          (0): Linear(in_features=768, out_features=3072, bias=True)\n",
            "          (1): GELU(approximate='none')\n",
            "          (2): Dropout(p=0.0, inplace=False)\n",
            "          (3): Linear(in_features=3072, out_features=768, bias=True)\n",
            "          (4): Dropout(p=0.0, inplace=False)\n",
            "        )\n",
            "      )\n",
            "      (encoder_layer_8): EncoderBlock(\n",
            "        (ln_1): LayerNorm((768,), eps=1e-06, elementwise_affine=True)\n",
            "        (self_attention): MultiheadAttention(\n",
            "          (out_proj): NonDynamicallyQuantizableLinear(in_features=768, out_features=768, bias=True)\n",
            "        )\n",
            "        (dropout): Dropout(p=0.0, inplace=False)\n",
            "        (ln_2): LayerNorm((768,), eps=1e-06, elementwise_affine=True)\n",
            "        (mlp): MLPBlock(\n",
            "          (0): Linear(in_features=768, out_features=3072, bias=True)\n",
            "          (1): GELU(approximate='none')\n",
            "          (2): Dropout(p=0.0, inplace=False)\n",
            "          (3): Linear(in_features=3072, out_features=768, bias=True)\n",
            "          (4): Dropout(p=0.0, inplace=False)\n",
            "        )\n",
            "      )\n",
            "      (encoder_layer_9): EncoderBlock(\n",
            "        (ln_1): LayerNorm((768,), eps=1e-06, elementwise_affine=True)\n",
            "        (self_attention): MultiheadAttention(\n",
            "          (out_proj): NonDynamicallyQuantizableLinear(in_features=768, out_features=768, bias=True)\n",
            "        )\n",
            "        (dropout): Dropout(p=0.0, inplace=False)\n",
            "        (ln_2): LayerNorm((768,), eps=1e-06, elementwise_affine=True)\n",
            "        (mlp): MLPBlock(\n",
            "          (0): Linear(in_features=768, out_features=3072, bias=True)\n",
            "          (1): GELU(approximate='none')\n",
            "          (2): Dropout(p=0.0, inplace=False)\n",
            "          (3): Linear(in_features=3072, out_features=768, bias=True)\n",
            "          (4): Dropout(p=0.0, inplace=False)\n",
            "        )\n",
            "      )\n",
            "      (encoder_layer_10): EncoderBlock(\n",
            "        (ln_1): LayerNorm((768,), eps=1e-06, elementwise_affine=True)\n",
            "        (self_attention): MultiheadAttention(\n",
            "          (out_proj): NonDynamicallyQuantizableLinear(in_features=768, out_features=768, bias=True)\n",
            "        )\n",
            "        (dropout): Dropout(p=0.0, inplace=False)\n",
            "        (ln_2): LayerNorm((768,), eps=1e-06, elementwise_affine=True)\n",
            "        (mlp): MLPBlock(\n",
            "          (0): Linear(in_features=768, out_features=3072, bias=True)\n",
            "          (1): GELU(approximate='none')\n",
            "          (2): Dropout(p=0.0, inplace=False)\n",
            "          (3): Linear(in_features=3072, out_features=768, bias=True)\n",
            "          (4): Dropout(p=0.0, inplace=False)\n",
            "        )\n",
            "      )\n",
            "      (encoder_layer_11): EncoderBlock(\n",
            "        (ln_1): LayerNorm((768,), eps=1e-06, elementwise_affine=True)\n",
            "        (self_attention): MultiheadAttention(\n",
            "          (out_proj): NonDynamicallyQuantizableLinear(in_features=768, out_features=768, bias=True)\n",
            "        )\n",
            "        (dropout): Dropout(p=0.0, inplace=False)\n",
            "        (ln_2): LayerNorm((768,), eps=1e-06, elementwise_affine=True)\n",
            "        (mlp): MLPBlock(\n",
            "          (0): Linear(in_features=768, out_features=3072, bias=True)\n",
            "          (1): GELU(approximate='none')\n",
            "          (2): Dropout(p=0.0, inplace=False)\n",
            "          (3): Linear(in_features=3072, out_features=768, bias=True)\n",
            "          (4): Dropout(p=0.0, inplace=False)\n",
            "        )\n",
            "      )\n",
            "    )\n",
            "    (ln): LayerNorm((768,), eps=1e-06, elementwise_affine=True)\n",
            "  )\n",
            "  (heads): Sequential(\n",
            "    (head): Linear(in_features=768, out_features=1000, bias=True)\n",
            "  )\n",
            ")"
          ]
        },
        "metadata": {},
        "execution_count": 28
      }
    ],
    "source": [
      "# define model\n",
      "\n",
      "vision_transformer = models.vit_b_16(weights=models.ViT_B_16_Weights.DEFAULT)\n",
      "\n",
      "vision_transformer"
    ],
    "id": "214dfa03"
  },
  {
    "cell_type": "code",
    "execution_count": 29,
    "metadata": {
      "colab": {
        "base_uri": "https://localhost:8080/"
      },
      "id": "b6676a19",
      "outputId": "2a79275e-4213-487d-9c97-def18061eae3"
    },
    "outputs": [
      {
        "output_type": "execute_result",
        "data": {
          "text/plain": [
            "Sequential(\n",
            "  (head): Linear(in_features=768, out_features=1000, bias=True)\n",
            ")"
          ]
        },
        "metadata": {},
        "execution_count": 29
      }
    ],
    "source": [
      "# vit-16 model is trained on ImageNet\n",
      "# we expect to have output of 1000 number of classes\n",
      "\n",
      "vision_transformer.heads"
    ],
    "id": "b6676a19"
  },
  {
    "cell_type": "code",
    "execution_count": 30,
    "metadata": {
      "id": "252d2880"
    },
    "outputs": [],
    "source": [
      "# fine-tune with dataset\n",
      "\n",
      "# change the number of output classes\n",
      "vision_transformer.heads = nn.Linear(in_features=768, out_features=len(classes), bias=True)\n",
      "\n",
      "# freeze the parameters except the last linear layer\n",
      "#\n",
      "# freeze weights\n",
      "for p in vision_transformer.parameters():\n",
      "    p.requires_grad = False\n",
      "\n",
      "# unfreeze weights of classification head to train\n",
      "for p in vision_transformer.heads.parameters():\n",
      "    p.requires_grad = True"
    ],
    "id": "252d2880"
  },
  {
    "cell_type": "code",
    "execution_count": null,
    "metadata": {
      "colab": {
        "base_uri": "https://localhost:8080/"
      },
      "id": "nIoiBvIuChh9",
      "outputId": "a04f083b-795d-4695-c11e-d5ce0bb723d8"
    },
    "outputs": [
      {
        "output_type": "stream",
        "name": "stdout",
        "text": [
          "Layer Name: class_token, Frozen: True\n",
          "\n",
          "Layer Name: conv_proj.weight, Frozen: True\n",
          "\n",
          "Layer Name: conv_proj.bias, Frozen: True\n",
          "\n",
          "Layer Name: encoder.pos_embedding, Frozen: True\n",
          "\n",
          "Layer Name: encoder.layers.encoder_layer_0.ln_1.weight, Frozen: True\n",
          "\n",
          "Layer Name: encoder.layers.encoder_layer_0.ln_1.bias, Frozen: True\n",
          "\n",
          "Layer Name: encoder.layers.encoder_layer_0.self_attention.in_proj_weight, Frozen: True\n",
          "\n",
          "Layer Name: encoder.layers.encoder_layer_0.self_attention.in_proj_bias, Frozen: True\n",
          "\n",
          "Layer Name: encoder.layers.encoder_layer_0.self_attention.out_proj.weight, Frozen: True\n",
          "\n",
          "Layer Name: encoder.layers.encoder_layer_0.self_attention.out_proj.bias, Frozen: True\n",
          "\n",
          "Layer Name: encoder.layers.encoder_layer_0.ln_2.weight, Frozen: True\n",
          "\n",
          "Layer Name: encoder.layers.encoder_layer_0.ln_2.bias, Frozen: True\n",
          "\n",
          "Layer Name: encoder.layers.encoder_layer_0.mlp.0.weight, Frozen: True\n",
          "\n",
          "Layer Name: encoder.layers.encoder_layer_0.mlp.0.bias, Frozen: True\n",
          "\n",
          "Layer Name: encoder.layers.encoder_layer_0.mlp.3.weight, Frozen: True\n",
          "\n",
          "Layer Name: encoder.layers.encoder_layer_0.mlp.3.bias, Frozen: True\n",
          "\n",
          "Layer Name: encoder.layers.encoder_layer_1.ln_1.weight, Frozen: True\n",
          "\n",
          "Layer Name: encoder.layers.encoder_layer_1.ln_1.bias, Frozen: True\n",
          "\n",
          "Layer Name: encoder.layers.encoder_layer_1.self_attention.in_proj_weight, Frozen: True\n",
          "\n",
          "Layer Name: encoder.layers.encoder_layer_1.self_attention.in_proj_bias, Frozen: True\n",
          "\n",
          "Layer Name: encoder.layers.encoder_layer_1.self_attention.out_proj.weight, Frozen: True\n",
          "\n",
          "Layer Name: encoder.layers.encoder_layer_1.self_attention.out_proj.bias, Frozen: True\n",
          "\n",
          "Layer Name: encoder.layers.encoder_layer_1.ln_2.weight, Frozen: True\n",
          "\n",
          "Layer Name: encoder.layers.encoder_layer_1.ln_2.bias, Frozen: True\n",
          "\n",
          "Layer Name: encoder.layers.encoder_layer_1.mlp.0.weight, Frozen: True\n",
          "\n",
          "Layer Name: encoder.layers.encoder_layer_1.mlp.0.bias, Frozen: True\n",
          "\n",
          "Layer Name: encoder.layers.encoder_layer_1.mlp.3.weight, Frozen: True\n",
          "\n",
          "Layer Name: encoder.layers.encoder_layer_1.mlp.3.bias, Frozen: True\n",
          "\n",
          "Layer Name: encoder.layers.encoder_layer_2.ln_1.weight, Frozen: True\n",
          "\n",
          "Layer Name: encoder.layers.encoder_layer_2.ln_1.bias, Frozen: True\n",
          "\n",
          "Layer Name: encoder.layers.encoder_layer_2.self_attention.in_proj_weight, Frozen: True\n",
          "\n",
          "Layer Name: encoder.layers.encoder_layer_2.self_attention.in_proj_bias, Frozen: True\n",
          "\n",
          "Layer Name: encoder.layers.encoder_layer_2.self_attention.out_proj.weight, Frozen: True\n",
          "\n",
          "Layer Name: encoder.layers.encoder_layer_2.self_attention.out_proj.bias, Frozen: True\n",
          "\n",
          "Layer Name: encoder.layers.encoder_layer_2.ln_2.weight, Frozen: True\n",
          "\n",
          "Layer Name: encoder.layers.encoder_layer_2.ln_2.bias, Frozen: True\n",
          "\n",
          "Layer Name: encoder.layers.encoder_layer_2.mlp.0.weight, Frozen: True\n",
          "\n",
          "Layer Name: encoder.layers.encoder_layer_2.mlp.0.bias, Frozen: True\n",
          "\n",
          "Layer Name: encoder.layers.encoder_layer_2.mlp.3.weight, Frozen: True\n",
          "\n",
          "Layer Name: encoder.layers.encoder_layer_2.mlp.3.bias, Frozen: True\n",
          "\n",
          "Layer Name: encoder.layers.encoder_layer_3.ln_1.weight, Frozen: True\n",
          "\n",
          "Layer Name: encoder.layers.encoder_layer_3.ln_1.bias, Frozen: True\n",
          "\n",
          "Layer Name: encoder.layers.encoder_layer_3.self_attention.in_proj_weight, Frozen: True\n",
          "\n",
          "Layer Name: encoder.layers.encoder_layer_3.self_attention.in_proj_bias, Frozen: True\n",
          "\n",
          "Layer Name: encoder.layers.encoder_layer_3.self_attention.out_proj.weight, Frozen: True\n",
          "\n",
          "Layer Name: encoder.layers.encoder_layer_3.self_attention.out_proj.bias, Frozen: True\n",
          "\n",
          "Layer Name: encoder.layers.encoder_layer_3.ln_2.weight, Frozen: True\n",
          "\n",
          "Layer Name: encoder.layers.encoder_layer_3.ln_2.bias, Frozen: True\n",
          "\n",
          "Layer Name: encoder.layers.encoder_layer_3.mlp.0.weight, Frozen: True\n",
          "\n",
          "Layer Name: encoder.layers.encoder_layer_3.mlp.0.bias, Frozen: True\n",
          "\n",
          "Layer Name: encoder.layers.encoder_layer_3.mlp.3.weight, Frozen: True\n",
          "\n",
          "Layer Name: encoder.layers.encoder_layer_3.mlp.3.bias, Frozen: True\n",
          "\n",
          "Layer Name: encoder.layers.encoder_layer_4.ln_1.weight, Frozen: True\n",
          "\n",
          "Layer Name: encoder.layers.encoder_layer_4.ln_1.bias, Frozen: True\n",
          "\n",
          "Layer Name: encoder.layers.encoder_layer_4.self_attention.in_proj_weight, Frozen: True\n",
          "\n",
          "Layer Name: encoder.layers.encoder_layer_4.self_attention.in_proj_bias, Frozen: True\n",
          "\n",
          "Layer Name: encoder.layers.encoder_layer_4.self_attention.out_proj.weight, Frozen: True\n",
          "\n",
          "Layer Name: encoder.layers.encoder_layer_4.self_attention.out_proj.bias, Frozen: True\n",
          "\n",
          "Layer Name: encoder.layers.encoder_layer_4.ln_2.weight, Frozen: True\n",
          "\n",
          "Layer Name: encoder.layers.encoder_layer_4.ln_2.bias, Frozen: True\n",
          "\n",
          "Layer Name: encoder.layers.encoder_layer_4.mlp.0.weight, Frozen: True\n",
          "\n",
          "Layer Name: encoder.layers.encoder_layer_4.mlp.0.bias, Frozen: True\n",
          "\n",
          "Layer Name: encoder.layers.encoder_layer_4.mlp.3.weight, Frozen: True\n",
          "\n",
          "Layer Name: encoder.layers.encoder_layer_4.mlp.3.bias, Frozen: True\n",
          "\n",
          "Layer Name: encoder.layers.encoder_layer_5.ln_1.weight, Frozen: True\n",
          "\n",
          "Layer Name: encoder.layers.encoder_layer_5.ln_1.bias, Frozen: True\n",
          "\n",
          "Layer Name: encoder.layers.encoder_layer_5.self_attention.in_proj_weight, Frozen: True\n",
          "\n",
          "Layer Name: encoder.layers.encoder_layer_5.self_attention.in_proj_bias, Frozen: True\n",
          "\n",
          "Layer Name: encoder.layers.encoder_layer_5.self_attention.out_proj.weight, Frozen: True\n",
          "\n",
          "Layer Name: encoder.layers.encoder_layer_5.self_attention.out_proj.bias, Frozen: True\n",
          "\n",
          "Layer Name: encoder.layers.encoder_layer_5.ln_2.weight, Frozen: True\n",
          "\n",
          "Layer Name: encoder.layers.encoder_layer_5.ln_2.bias, Frozen: True\n",
          "\n",
          "Layer Name: encoder.layers.encoder_layer_5.mlp.0.weight, Frozen: True\n",
          "\n",
          "Layer Name: encoder.layers.encoder_layer_5.mlp.0.bias, Frozen: True\n",
          "\n",
          "Layer Name: encoder.layers.encoder_layer_5.mlp.3.weight, Frozen: True\n",
          "\n",
          "Layer Name: encoder.layers.encoder_layer_5.mlp.3.bias, Frozen: True\n",
          "\n",
          "Layer Name: encoder.layers.encoder_layer_6.ln_1.weight, Frozen: True\n",
          "\n",
          "Layer Name: encoder.layers.encoder_layer_6.ln_1.bias, Frozen: True\n",
          "\n",
          "Layer Name: encoder.layers.encoder_layer_6.self_attention.in_proj_weight, Frozen: True\n",
          "\n",
          "Layer Name: encoder.layers.encoder_layer_6.self_attention.in_proj_bias, Frozen: True\n",
          "\n",
          "Layer Name: encoder.layers.encoder_layer_6.self_attention.out_proj.weight, Frozen: True\n",
          "\n",
          "Layer Name: encoder.layers.encoder_layer_6.self_attention.out_proj.bias, Frozen: True\n",
          "\n",
          "Layer Name: encoder.layers.encoder_layer_6.ln_2.weight, Frozen: True\n",
          "\n",
          "Layer Name: encoder.layers.encoder_layer_6.ln_2.bias, Frozen: True\n",
          "\n",
          "Layer Name: encoder.layers.encoder_layer_6.mlp.0.weight, Frozen: True\n",
          "\n",
          "Layer Name: encoder.layers.encoder_layer_6.mlp.0.bias, Frozen: True\n",
          "\n",
          "Layer Name: encoder.layers.encoder_layer_6.mlp.3.weight, Frozen: True\n",
          "\n",
          "Layer Name: encoder.layers.encoder_layer_6.mlp.3.bias, Frozen: True\n",
          "\n",
          "Layer Name: encoder.layers.encoder_layer_7.ln_1.weight, Frozen: True\n",
          "\n",
          "Layer Name: encoder.layers.encoder_layer_7.ln_1.bias, Frozen: True\n",
          "\n",
          "Layer Name: encoder.layers.encoder_layer_7.self_attention.in_proj_weight, Frozen: True\n",
          "\n",
          "Layer Name: encoder.layers.encoder_layer_7.self_attention.in_proj_bias, Frozen: True\n",
          "\n",
          "Layer Name: encoder.layers.encoder_layer_7.self_attention.out_proj.weight, Frozen: True\n",
          "\n",
          "Layer Name: encoder.layers.encoder_layer_7.self_attention.out_proj.bias, Frozen: True\n",
          "\n",
          "Layer Name: encoder.layers.encoder_layer_7.ln_2.weight, Frozen: True\n",
          "\n",
          "Layer Name: encoder.layers.encoder_layer_7.ln_2.bias, Frozen: True\n",
          "\n",
          "Layer Name: encoder.layers.encoder_layer_7.mlp.0.weight, Frozen: True\n",
          "\n",
          "Layer Name: encoder.layers.encoder_layer_7.mlp.0.bias, Frozen: True\n",
          "\n",
          "Layer Name: encoder.layers.encoder_layer_7.mlp.3.weight, Frozen: True\n",
          "\n",
          "Layer Name: encoder.layers.encoder_layer_7.mlp.3.bias, Frozen: True\n",
          "\n",
          "Layer Name: encoder.layers.encoder_layer_8.ln_1.weight, Frozen: True\n",
          "\n",
          "Layer Name: encoder.layers.encoder_layer_8.ln_1.bias, Frozen: True\n",
          "\n",
          "Layer Name: encoder.layers.encoder_layer_8.self_attention.in_proj_weight, Frozen: True\n",
          "\n",
          "Layer Name: encoder.layers.encoder_layer_8.self_attention.in_proj_bias, Frozen: True\n",
          "\n",
          "Layer Name: encoder.layers.encoder_layer_8.self_attention.out_proj.weight, Frozen: True\n",
          "\n",
          "Layer Name: encoder.layers.encoder_layer_8.self_attention.out_proj.bias, Frozen: True\n",
          "\n",
          "Layer Name: encoder.layers.encoder_layer_8.ln_2.weight, Frozen: True\n",
          "\n",
          "Layer Name: encoder.layers.encoder_layer_8.ln_2.bias, Frozen: True\n",
          "\n",
          "Layer Name: encoder.layers.encoder_layer_8.mlp.0.weight, Frozen: True\n",
          "\n",
          "Layer Name: encoder.layers.encoder_layer_8.mlp.0.bias, Frozen: True\n",
          "\n",
          "Layer Name: encoder.layers.encoder_layer_8.mlp.3.weight, Frozen: True\n",
          "\n",
          "Layer Name: encoder.layers.encoder_layer_8.mlp.3.bias, Frozen: True\n",
          "\n",
          "Layer Name: encoder.layers.encoder_layer_9.ln_1.weight, Frozen: True\n",
          "\n",
          "Layer Name: encoder.layers.encoder_layer_9.ln_1.bias, Frozen: True\n",
          "\n",
          "Layer Name: encoder.layers.encoder_layer_9.self_attention.in_proj_weight, Frozen: True\n",
          "\n",
          "Layer Name: encoder.layers.encoder_layer_9.self_attention.in_proj_bias, Frozen: True\n",
          "\n",
          "Layer Name: encoder.layers.encoder_layer_9.self_attention.out_proj.weight, Frozen: True\n",
          "\n",
          "Layer Name: encoder.layers.encoder_layer_9.self_attention.out_proj.bias, Frozen: True\n",
          "\n",
          "Layer Name: encoder.layers.encoder_layer_9.ln_2.weight, Frozen: True\n",
          "\n",
          "Layer Name: encoder.layers.encoder_layer_9.ln_2.bias, Frozen: True\n",
          "\n",
          "Layer Name: encoder.layers.encoder_layer_9.mlp.0.weight, Frozen: True\n",
          "\n",
          "Layer Name: encoder.layers.encoder_layer_9.mlp.0.bias, Frozen: True\n",
          "\n",
          "Layer Name: encoder.layers.encoder_layer_9.mlp.3.weight, Frozen: True\n",
          "\n",
          "Layer Name: encoder.layers.encoder_layer_9.mlp.3.bias, Frozen: True\n",
          "\n",
          "Layer Name: encoder.layers.encoder_layer_10.ln_1.weight, Frozen: True\n",
          "\n",
          "Layer Name: encoder.layers.encoder_layer_10.ln_1.bias, Frozen: True\n",
          "\n",
          "Layer Name: encoder.layers.encoder_layer_10.self_attention.in_proj_weight, Frozen: True\n",
          "\n",
          "Layer Name: encoder.layers.encoder_layer_10.self_attention.in_proj_bias, Frozen: True\n",
          "\n",
          "Layer Name: encoder.layers.encoder_layer_10.self_attention.out_proj.weight, Frozen: True\n",
          "\n",
          "Layer Name: encoder.layers.encoder_layer_10.self_attention.out_proj.bias, Frozen: True\n",
          "\n",
          "Layer Name: encoder.layers.encoder_layer_10.ln_2.weight, Frozen: True\n",
          "\n",
          "Layer Name: encoder.layers.encoder_layer_10.ln_2.bias, Frozen: True\n",
          "\n",
          "Layer Name: encoder.layers.encoder_layer_10.mlp.0.weight, Frozen: True\n",
          "\n",
          "Layer Name: encoder.layers.encoder_layer_10.mlp.0.bias, Frozen: True\n",
          "\n",
          "Layer Name: encoder.layers.encoder_layer_10.mlp.3.weight, Frozen: True\n",
          "\n",
          "Layer Name: encoder.layers.encoder_layer_10.mlp.3.bias, Frozen: True\n",
          "\n",
          "Layer Name: encoder.layers.encoder_layer_11.ln_1.weight, Frozen: True\n",
          "\n",
          "Layer Name: encoder.layers.encoder_layer_11.ln_1.bias, Frozen: True\n",
          "\n",
          "Layer Name: encoder.layers.encoder_layer_11.self_attention.in_proj_weight, Frozen: True\n",
          "\n",
          "Layer Name: encoder.layers.encoder_layer_11.self_attention.in_proj_bias, Frozen: True\n",
          "\n",
          "Layer Name: encoder.layers.encoder_layer_11.self_attention.out_proj.weight, Frozen: True\n",
          "\n",
          "Layer Name: encoder.layers.encoder_layer_11.self_attention.out_proj.bias, Frozen: True\n",
          "\n",
          "Layer Name: encoder.layers.encoder_layer_11.ln_2.weight, Frozen: True\n",
          "\n",
          "Layer Name: encoder.layers.encoder_layer_11.ln_2.bias, Frozen: True\n",
          "\n",
          "Layer Name: encoder.layers.encoder_layer_11.mlp.0.weight, Frozen: True\n",
          "\n",
          "Layer Name: encoder.layers.encoder_layer_11.mlp.0.bias, Frozen: True\n",
          "\n",
          "Layer Name: encoder.layers.encoder_layer_11.mlp.3.weight, Frozen: True\n",
          "\n",
          "Layer Name: encoder.layers.encoder_layer_11.mlp.3.bias, Frozen: True\n",
          "\n",
          "Layer Name: encoder.ln.weight, Frozen: True\n",
          "\n",
          "Layer Name: encoder.ln.bias, Frozen: True\n",
          "\n",
          "Layer Name: heads.weight, Frozen: False\n",
          "\n",
          "Layer Name: heads.bias, Frozen: False\n",
          "\n"
        ]
      }
    ],
    "source": [
      "# check whether corresponding layers are frozen\n",
      "\n",
      "for layer_name, p in vision_transformer.named_parameters():\n",
      "    print('Layer Name: {}, Frozen: {}'.format(layer_name, not p.requires_grad))\n",
      "    print()"
    ],
    "id": "nIoiBvIuChh9"
  },
  {
    "cell_type": "code",
    "execution_count": 31,
    "metadata": {
      "id": "32137cfe"
    },
    "outputs": [],
    "source": [
      "# specify loss function\n",
      "criterion = nn.CrossEntropyLoss()\n",
      "\n",
      "# define optimizer\n",
      "# only train the parameters with requires_grad set to True\n",
      "optimizer = optim.Adam(filter(lambda p: p.requires_grad, vision_transformer.parameters()), lr=0.0001)\n"
    ],
    "id": "32137cfe"
  },
  {
    "cell_type": "code",
    "execution_count": 32,
    "metadata": {
      "colab": {
        "base_uri": "https://localhost:8080/"
      },
      "id": "63a9c147",
      "outputId": "9f8d5b35-bb48-436a-cc91-6db8cadbef52"
    },
    "outputs": [
      {
        "output_type": "execute_result",
        "data": {
          "text/plain": [
            "True"
          ]
        },
        "metadata": {},
        "execution_count": 32
      }
    ],
    "source": [
      "# Check for a GPU\n",
      "train_on_gpu = torch.cuda.is_available()\n",
      "train_on_gpu"
    ],
    "id": "63a9c147"
  },
  {
    "cell_type": "code",
    "execution_count": null,
    "metadata": {
      "colab": {
        "base_uri": "https://localhost:8080/"
      },
      "id": "4669a025",
      "outputId": "af15c2f0-008a-432a-8b9f-5578379f0688"
    },
    "outputs": [
      {
        "output_type": "stream",
        "name": "stdout",
        "text": [
          "Epoch: 1 \t Training Loss: 1.684421 \t Validation Loss: 1.187321\n",
          "Epoch: 2 \t Training Loss: 0.944035 \t Validation Loss: 0.767989\n",
          "Epoch: 3 \t Training Loss: 0.679093 \t Validation Loss: 0.599371\n",
          "Epoch: 4 \t Training Loss: 0.556130 \t Validation Loss: 0.509430\n",
          "Epoch: 5 \t Training Loss: 0.484761 \t Validation Loss: 0.462646\n",
          "Epoch: 6 \t Training Loss: 0.437991 \t Validation Loss: 0.420497\n"
        ]
      }
    ],
    "source": [
      "# Train model\n",
      "\n",
      "# number of epochs\n",
      "n_epoch = 10\n",
      "\n",
      "train_loss_list, valid_loss_list = [], []\n",
      "\n",
      "# move model to GPU\n",
      "if train_on_gpu:\n",
      "    vision_transformer.to('cuda')\n",
      "\n",
      "# prepare model for training\n",
      "vision_transformer.train()\n",
      "\n",
      "for e in range(n_epoch):\n",
      "    train_loss = 0.0\n",
      "    valid_loss = 0.0\n",
      "\n",
      "    # get batch data\n",
      "    for i, (images, targets) in enumerate(train_loader):\n",
      "\n",
      "        # move to gpu if available\n",
      "        if train_on_gpu:\n",
      "            images, targets = images.to('cuda'), targets.to('cuda')\n",
      "\n",
      "        # clear grad\n",
      "        optimizer.zero_grad()\n",
      "\n",
      "        # feedforward data\n",
      "        outputs = vision_transformer(images)\n",
      "\n",
      "        # calculate loss\n",
      "        loss = criterion(outputs, targets)\n",
      "\n",
      "        # backward pass, calculate gradients\n",
      "        loss.backward()\n",
      "\n",
      "        # update weights\n",
      "        optimizer.step()\n",
      "\n",
      "        # track loss\n",
      "        train_loss += loss.item()\n",
      "\n",
      "    # set model to evaluation mode\n",
      "    vision_transformer.eval()\n",
      "\n",
      "    # validate model\n",
      "    for images, targets in valid_loader:\n",
      "\n",
      "        # move to gpu if available\n",
      "        if train_on_gpu:\n",
      "            images = images.to('cuda')\n",
      "            targets = targets.to('cuda')\n",
      "\n",
      "        # turn off gradients\n",
      "        with torch.no_grad():\n",
      "\n",
      "            outputs = vision_transformer(images)\n",
      "            loss = criterion(outputs, targets)\n",
      "            valid_loss += loss.item()\n",
      "\n",
      "    # set model back to training mode\n",
      "    vision_transformer.train()\n",
      "\n",
      "    # get average loss values\n",
      "    train_loss = train_loss / len(train_loader)\n",
      "    valid_loss = valid_loss / len(valid_loader)\n",
      "\n",
      "    train_loss_list.append(train_loss)\n",
      "    valid_loss_list.append(valid_loss)\n",
      "\n",
      "    # output training statistics for epoch\n",
      "    print('Epoch: {} \\t Training Loss: {:.6f} \\t Validation Loss: {:.6f}'\n",
      "                  .format( (e+1), train_loss, valid_loss))\n",
      "\n"
    ],
    "id": "4669a025"
  },
  {
    "cell_type": "code",
    "execution_count": null,
    "metadata": {
      "id": "b08ff648",
      "colab": {
        "base_uri": "https://localhost:8080/",
        "height": 472
      },
      "outputId": "6be49d0c-2463-485d-de55-53db2f9d3e8c"
    },
    "outputs": [
      {
        "output_type": "display_data",
        "data": {
          "text/plain": [
            "<Figure size 640x480 with 1 Axes>"
          ],
          "image/png": "[encoded data removed]"
        },
        "metadata": {}
      }
    ],
    "source": [
      "# visualize loss statistics\n",
      "\n",
      "plt.title(\"Training and Validation Loss\")\n",
      "plt.xlabel(\"Epoch\")\n",
      "plt.ylabel(\"Loss\")\n",
      "\n",
      "# plot losses\n",
      "x = list(range(1, n_epoch + 1))\n",
      "plt.plot(x, train_loss_list, color =\"blue\", label='Train')\n",
      "plt.plot(x, valid_loss_list, color=\"orange\", label='Validation')\n",
      "plt.legend(loc=\"upper right\")\n",
      "plt.xticks(x)\n",
      "\n",
      "plt.show()"
    ],
    "id": "b08ff648"
  },
  {
    "cell_type": "code",
    "execution_count": null,
    "metadata": {
      "id": "26742aeb",
      "colab": {
        "base_uri": "https://localhost:8080/"
      },
      "outputId": "fc58a2b7-2937-42a3-e51f-7e06b1d3e15a"
    },
    "outputs": [
      {
        "output_type": "stream",
        "name": "stdout",
        "text": [
          "Test Loss: 0.347656\n"
        ]
      }
    ],
    "source": [
      "# prepare model for evaluation\n",
      "vision_transformer.eval()\n",
      "\n",
      "test_loss = 0.0\n",
      "accuracy = 0\n",
      "\n",
      "# number of classes\n",
      "n_class = len(classes)\n",
      "\n",
      "class_correct = np.zeros(n_class)\n",
      "class_total = np.zeros(n_class)\n",
      "\n",
      "# move model back to cpu\n",
      "vision_transformer = vision_transformer.to('cpu')\n",
      "\n",
      "# test model\n",
      "for images, targets in test_loader:\n",
      "\n",
      "    # get outputs\n",
      "    outputs = vision_transformer(images)\n",
      "\n",
      "    # calculate loss\n",
      "    loss = criterion(outputs, targets)\n",
      "\n",
      "    # track loss\n",
      "    test_loss += loss.item()\n",
      "\n",
      "    # get predictions from probabilities\n",
      "    preds = torch.argmax(F.softmax(outputs, dim=1), dim=1)\n",
      "\n",
      "    # get correct predictions\n",
      "    correct_preds = (preds == targets).type(torch.FloatTensor)\n",
      "\n",
      "    # calculate and accumulate accuracy\n",
      "    accuracy += torch.mean(correct_preds).item() * 100\n",
      "\n",
      "    # calculate test accuracy for each class\n",
      "    for c in range(n_class):\n",
      "\n",
      "        targets = targets.to('cpu')\n",
      "\n",
      "        class_total[c] += (targets == c).sum()\n",
      "        class_correct[c] += ((correct_preds) * (targets == c)).sum()\n",
      "\n",
      "# get average accuracy\n",
      "accuracy = accuracy / len(test_loader)\n",
      "\n",
      "# get average loss\n",
      "test_loss = test_loss / len(test_loader)\n",
      "\n",
      "# output test loss statistics\n",
      "print('Test Loss: {:.6f}'.format(test_loss))\n"
    ],
    "id": "26742aeb"
  },
  {
    "cell_type": "code",
    "execution_count": null,
    "metadata": {
      "id": "adebd2eb",
      "colab": {
        "base_uri": "https://localhost:8080/"
      },
      "outputId": "3e73a6bc-473f-427a-ba52-31668c0ab52c"
    },
    "outputs": [
      {
        "output_type": "stream",
        "name": "stdout",
        "text": [
          "Test Accuracy of Classes\n",
          "\n",
          "airplane\t: 89% \t (92/103)\n",
          "automobile\t: 94% \t (84/89)\n",
          "bird\t: 84% \t (84/100)\n",
          "cat\t: 81% \t (84/103)\n",
          "deer\t: 91% \t (82/90)\n",
          "dog\t: 87% \t (75/86)\n",
          "frog\t: 91% \t (103/112)\n",
          "horse\t: 92% \t (94/102)\n",
          "ship\t: 96% \t (102/106)\n",
          "truck\t: 87% \t (95/109)\n",
          "\n",
          "Test Accuracy of Dataset: \t 89% \t (895/1000)\n"
        ]
      }
    ],
    "source": [
      "class_accuracy = class_correct / class_total\n",
      "\n",
      "print('Test Accuracy of Classes')\n",
      "print()\n",
      "\n",
      "for c in range(n_class):\n",
      "    print('{}\\t: {}% \\t ({}/{})'.format(classes[c],\n",
      "                                int(class_accuracy[c] * 100), int(class_correct[c]), int(class_total[c])) )\n",
      "\n",
      "print()\n",
      "print('Test Accuracy of Dataset: \\t {}% \\t ({}/{})'.format(int(accuracy),\n",
      "                                                           int(np.sum(class_correct)), int(np.sum(class_total)) ))"
    ],
    "id": "adebd2eb"
  },
  {
    "cell_type": "markdown",
    "metadata": {
      "id": "73388522"
    },
    "source": [
      "---\n",
      "**Key, Value and Query**\n",
      "\n",
      "The key/value/query concept is analogous to retrieval systems. For example, when we search for videos on Youtube, the search engine will map our query (text in the search bar) against a set of keys (video title, description, etc.) associated with candidate videos in their database, then present us the best matched videos (values). The dot product can be considered as defining some similarity between the text in search bar (query) and titles in the database (key)."
    ],
    "id": "73388522"
  },
  {
    "cell_type": "markdown",
    "metadata": {
      "id": "4b1e6fbf"
    },
    "source": [
      "---\n",
      "**Vision Transformer Success**\n",
      "\n",
      ">Our Vision Transformer (ViT) attains excellent results when pre-trained at sufficient scale and transferred to tasks with fewer datapoints. When pre-trained on the public ImageNet-21k dataset or the in-house JFT-300M dataset, ViT approaches or beats state of the art on multiple image recognition benchmarks. In particular, the best model reaches the accuracy of 88.55% on ImageNet, 90.72% on ImageNet-ReaL, 94.55% on CIFAR-100, and 77.63% on the VTAB suite of 19 tasks. <br><sub>1 Introduction<sub>\n",
      "\n",
      "\n",
      "**Vision Transformer Weakness**\n",
      "\n",
      ">Transformers lack some of the inductive biases inherent to CNNs, such as translation equivariance and locality, and therefore do not generalize well when trained on insufficient amounts of data. <br><sub>1 Introduction<sub>\n",
      "\n",
      ">**Inductive bias**: We note that Vision Transformer has much less image-specific inductive bias than CNNs. In CNNs, locality, two-dimensional neighborhood structure, and translation equivariance are baked into each layer throughout the whole model. In ViT, only MLP layers are local and translationally equivariant, while the self-attention layers are global. The two-dimensional neighborhood structure is used very sparingly: in the beginning of the model by cutting the image into patches and at fine-tuning time for adjusting the position embeddings for images of different resolution. Other than that, the position embeddings at initialization time carry no information\n",
      "about the 2D positions of the patches and all spatial relations between the patches have to be learned from scratch. <br><sub>3.1 Vision Transformer (ViT)<sub>\n",
      "\n",
      "---"
    ],
    "id": "4b1e6fbf"
  },
  {
    "cell_type": "markdown",
    "metadata": {
      "id": "5099009b"
    },
    "source": [
      "**Final Notes**\n",
      "\n",
      "The implementation here is a very basic representation of how Vision Transformers work. The code structure here is to preserve the simplicity of the code so that to be easier to follow. There are a lot of improvements that can be made in the implementation and calculations can be further optimized.\n",
      "\n",
      "---"
    ],
    "id": "5099009b"
  },
  {
    "cell_type": "markdown",
    "metadata": {
      "id": "fee1af93"
    },
    "source": [
      "### Resources\n",
      "\n",
      "1.  An Image is Worth 16x16 Words: Transformers For Image Recognition At Scale Paper - https://arxiv.org/pdf/2010.11929.pdf\n",
      "2. Illustrated Transformer Blog Post - https://jalammar.github.io/illustrated-transformer/\n",
      "3. Attention is All You Need Paper - https://arxiv.org/pdf/1706.03762.pdf\n",
      "4. What exactly are keys, queries, and values in attention mechanisms? - https://stats.stackexchange.com/questions/421935/what-exactly-are-keys-queries-and-values-in-attention-mechanisms"
    ],
    "id": "fee1af93"
  },
  {
    "cell_type": "code",
    "execution_count": null,
    "metadata": {
      "id": "f65efb13"
    },
    "outputs": [],
    "source": [],
    "id": "f65efb13"
  }
 ],
 "metadata": {
  "colab": {
    "provenance": [],
    "gpuType": "T4"
  },
  "kernelspec": {
    "display_name": "Python 3",
    "name": "python3"
  },
  "language_info": {
    "codemirror_mode": {
      "name": "ipython",
      "version": 3
    },
    "file_extension": ".py",
    "mimetype": "text/x-python",
    "name": "python",
    "nbconvert_exporter": "python",
    "pygments_lexer": "ipython3",
    "version": "3.9.16"
  },
  "accelerator": "GPU"
},
"nbformat": 4,
"nbformat_minor": 5
}
